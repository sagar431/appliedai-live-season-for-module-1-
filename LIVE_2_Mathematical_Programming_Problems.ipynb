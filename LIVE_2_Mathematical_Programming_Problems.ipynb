{
  "nbformat": 4,
  "nbformat_minor": 0,
  "metadata": {
    "kernelspec": {
      "display_name": "Python 3",
      "language": "python",
      "name": "python3"
    },
    "language_info": {
      "codemirror_mode": {
        "name": "ipython",
        "version": 3
      },
      "file_extension": ".py",
      "mimetype": "text/x-python",
      "name": "python",
      "nbconvert_exporter": "python",
      "pygments_lexer": "ipython3",
      "version": "3.7.3"
    },
    "colab": {
      "provenance": [],
      "include_colab_link": true
    }
  },
  "cells": [
    {
      "cell_type": "markdown",
      "metadata": {
        "id": "view-in-github",
        "colab_type": "text"
      },
      "source": [
        "<a href=\"https://colab.research.google.com/github/sagar431/appliedai-live-season-for-module-1-/blob/main/LIVE_2_Mathematical_Programming_Problems.ipynb\" target=\"_parent\"><img src=\"https://colab.research.google.com/assets/colab-badge.svg\" alt=\"Open In Colab\"/></a>"
      ]
    },
    {
      "cell_type": "markdown",
      "metadata": {
        "id": "82gw9JW1GBpm"
      },
      "source": [
        "## LIVE 2 : Let's solve slightly 'harder' problems than in the previous session\n",
        "\n",
        "- Yesterday's focus: Simple programs, reading error-messages, reading references, fixing bugs\n",
        "- Today's focus: Mathematical programming problems relevant to ML/AI, common-errors, testing code, loops/iteration and recursion.\n",
        "- Prereq: Python-programming. I will introduce \"new\" concepts as we go.\n",
        "- I have asked some of these problems and thier variations in actual interviews. \n",
        " "
      ]
    },
    {
      "cell_type": "code",
      "metadata": {
        "id": "nI5YD_f_GBpo",
        "outputId": "1ee0b977-5537-48d3-83e1-0e8f82ee8bd8",
        "colab": {
          "base_uri": "https://localhost:8080/"
        }
      },
      "source": [
        "# check Python version to avoid version-related bugs/errors\n",
        "import sys\n",
        "print (sys.version)"
      ],
      "execution_count": 1,
      "outputs": [
        {
          "output_type": "stream",
          "name": "stdout",
          "text": [
            "3.9.16 (main, Dec  7 2022, 01:11:51) \n",
            "[GCC 9.4.0]\n"
          ]
        }
      ]
    },
    {
      "cell_type": "markdown",
      "metadata": {
        "id": "sA9JEjHPGBpv"
      },
      "source": [
        "### Problem 1: Find peaks/max in an list\n",
        "- problem definition\n"
      ]
    },
    {
      "cell_type": "code",
      "metadata": {
        "id": "-eGDtX_sGBpw",
        "outputId": "a84bd445-e390-4824-d030-62a56deb0b53"
      },
      "source": [
        "A = [1,3,4,5,7,6,4,5,10,1];\n",
        "print(A)"
      ],
      "execution_count": null,
      "outputs": [
        {
          "output_type": "stream",
          "text": [
            "[1, 3, 4, 5, 7, 6, 4, 5, 10, 1]\n"
          ],
          "name": "stdout"
        }
      ]
    },
    {
      "cell_type": "code",
      "source": [
        "#chat gpt code \n",
        "A = [11,1,3,4,5,7,6,4,5,10,1,15]\n",
        "\n",
        "# Check for peak at the first element\n",
        "if A[0] >= A[1]:\n",
        "    print(A[0])\n",
        "\n",
        "# Check for peaks in the middle of the list\n",
        "for i in range(1, len(A) - 1):\n",
        "    if (A[i] >= A[i-1]) and (A[i] >= A[i+1]):\n",
        "        print(A[i])\n",
        "\n",
        "# Check for peak at the last element\n",
        "if A[len(A)-1] >= A[len(A)-2]:\n",
        "    print(A[len(A)-1])"
      ],
      "metadata": {
        "id": "bip-jmFl-Wzb",
        "outputId": "6c375adf-cb01-4749-f1ac-c73f4a29fb14",
        "colab": {
          "base_uri": "https://localhost:8080/"
        }
      },
      "execution_count": 3,
      "outputs": [
        {
          "output_type": "stream",
          "name": "stdout",
          "text": [
            "11\n",
            "7\n",
            "10\n",
            "15\n"
          ]
        }
      ]
    },
    {
      "cell_type": "markdown",
      "source": [
        "This code checks if the first and last elements of the list are peaks by comparing them to their single neighbor. Then it iterates through the rest of the list, checking if each element is greater than or equal to its neighbors. If an element is found to be a peak, it is printed. Is there anything else you would like to know?"
      ],
      "metadata": {
        "id": "tk4IduIOA8q2"
      }
    },
    {
      "cell_type": "code",
      "metadata": {
        "id": "ChIpAv9sGBp1",
        "outputId": "a399783e-3e00-4cb0-b967-0c094584a274"
      },
      "source": [
        "# Peaks: 7,10\n",
        "\n",
        "# Arrive at the logic and what coding-constructs we ahev to use to solve it.\n",
        "\n",
        "\n",
        "# Peak: A[i-1] <= A[i] >= A[i+1]\n",
        "\n",
        "for i in range(1, A.size - 1): # 1 and -1 are important\n",
        "    if (A[i] >= A[i-1]) and (A[i] >= A[i+1]):\n",
        "        print(A[i]);"
      ],
      "execution_count": null,
      "outputs": [
        {
          "output_type": "error",
          "ename": "AttributeError",
          "evalue": "'list' object has no attribute 'size'",
          "traceback": [
            "\u001b[0;31m---------------------------------------------------------------------------\u001b[0m",
            "\u001b[0;31mAttributeError\u001b[0m                            Traceback (most recent call last)",
            "\u001b[0;32m<ipython-input-99-71afdfbe8dc6>\u001b[0m in \u001b[0;36m<module>\u001b[0;34m\u001b[0m\n\u001b[1;32m      6\u001b[0m \u001b[0;31m# Peak: A[i-1] <= A[i] >= A[i+1]\u001b[0m\u001b[0;34m\u001b[0m\u001b[0;34m\u001b[0m\u001b[0;34m\u001b[0m\u001b[0m\n\u001b[1;32m      7\u001b[0m \u001b[0;34m\u001b[0m\u001b[0m\n\u001b[0;32m----> 8\u001b[0;31m \u001b[0;32mfor\u001b[0m \u001b[0mi\u001b[0m \u001b[0;32min\u001b[0m \u001b[0mrange\u001b[0m\u001b[0;34m(\u001b[0m\u001b[0;36m1\u001b[0m\u001b[0;34m,\u001b[0m \u001b[0mA\u001b[0m\u001b[0;34m.\u001b[0m\u001b[0msize\u001b[0m \u001b[0;34m-\u001b[0m \u001b[0;36m1\u001b[0m\u001b[0;34m)\u001b[0m\u001b[0;34m:\u001b[0m \u001b[0;31m# 1 and -1 are important\u001b[0m\u001b[0;34m\u001b[0m\u001b[0;34m\u001b[0m\u001b[0m\n\u001b[0m\u001b[1;32m      9\u001b[0m     \u001b[0;32mif\u001b[0m \u001b[0;34m(\u001b[0m\u001b[0mA\u001b[0m\u001b[0;34m[\u001b[0m\u001b[0mi\u001b[0m\u001b[0;34m]\u001b[0m \u001b[0;34m>=\u001b[0m \u001b[0mA\u001b[0m\u001b[0;34m[\u001b[0m\u001b[0mi\u001b[0m\u001b[0;34m-\u001b[0m\u001b[0;36m1\u001b[0m\u001b[0;34m]\u001b[0m\u001b[0;34m)\u001b[0m \u001b[0;32mand\u001b[0m \u001b[0;34m(\u001b[0m\u001b[0mA\u001b[0m\u001b[0;34m[\u001b[0m\u001b[0mi\u001b[0m\u001b[0;34m]\u001b[0m \u001b[0;34m>=\u001b[0m \u001b[0mA\u001b[0m\u001b[0;34m[\u001b[0m\u001b[0mi\u001b[0m\u001b[0;34m+\u001b[0m\u001b[0;36m1\u001b[0m\u001b[0;34m]\u001b[0m\u001b[0;34m)\u001b[0m\u001b[0;34m:\u001b[0m\u001b[0;34m\u001b[0m\u001b[0;34m\u001b[0m\u001b[0m\n\u001b[1;32m     10\u001b[0m         \u001b[0mprint\u001b[0m\u001b[0;34m(\u001b[0m\u001b[0mA\u001b[0m\u001b[0;34m[\u001b[0m\u001b[0mi\u001b[0m\u001b[0;34m]\u001b[0m\u001b[0;34m)\u001b[0m\u001b[0;34m;\u001b[0m\u001b[0;34m\u001b[0m\u001b[0;34m\u001b[0m\u001b[0m\n",
            "\u001b[0;31mAttributeError\u001b[0m: 'list' object has no attribute 'size'"
          ]
        }
      ]
    },
    {
      "cell_type": "code",
      "metadata": {
        "id": "LHrPt5IcGBp7",
        "outputId": "145e6ff7-fa4d-4fb7-f316-726e8ef6d077"
      },
      "source": [
        "print(len(A));"
      ],
      "execution_count": null,
      "outputs": [
        {
          "output_type": "stream",
          "text": [
            "10\n"
          ],
          "name": "stdout"
        }
      ]
    },
    {
      "cell_type": "code",
      "metadata": {
        "id": "36jOXeK0GBp_",
        "outputId": "3db9336c-1245-4829-ce59-be0f56d650d8"
      },
      "source": [
        "for i in range(1, len(A) - 1): # 1 and -1 are important\n",
        "    if (A[i] >= A[i-1]) and (A[i] >= A[i+1]):\n",
        "        print(A[i]);"
      ],
      "execution_count": null,
      "outputs": [
        {
          "output_type": "stream",
          "text": [
            "7\n",
            "10\n"
          ],
          "name": "stdout"
        }
      ]
    },
    {
      "cell_type": "code",
      "metadata": {
        "id": "UoNYVFCDGBqD"
      },
      "source": [
        "# There is a bug in the above solution. Find it..."
      ],
      "execution_count": null,
      "outputs": []
    },
    {
      "cell_type": "code",
      "metadata": {
        "id": "S7eaD0m3GBqI",
        "outputId": "9f3890b5-8cf6-4b71-c461-80eadb82d4df"
      },
      "source": [
        "A = [11,3,4,5,7,6,4,5,10,15];\n",
        "\n",
        "for i in range(1, len(A) - 1): # 1 and -1 are important\n",
        "    if (A[i] >= A[i-1]) and (A[i] >= A[i+1]):\n",
        "        print(A[i]);"
      ],
      "execution_count": null,
      "outputs": [
        {
          "output_type": "stream",
          "text": [
            "7\n"
          ],
          "name": "stdout"
        }
      ]
    },
    {
      "cell_type": "code",
      "metadata": {
        "id": "u2hwvhZHGBqN",
        "outputId": "2615c053-f918-4e38-e985-d1dcf2339a2d"
      },
      "source": [
        "# what about 11 and 15?\n",
        "\n",
        "# boundary case: DONT MISS THEM. Very important in interviews\n",
        "if A[0] >= A[1]:\n",
        "    print(A[0])\n",
        "    \n",
        "for i in range(1, len(A) - 1): # 1 and -1 are important\n",
        "    if (A[i] >= A[i-1]) and (A[i] >= A[i+1]):\n",
        "        print(A[i]);\n",
        "\n",
        "# boundary case\n",
        "if A[len(A)-1] >= A[len(A)-2]:\n",
        "    print(A[len(A)-1])\n"
      ],
      "execution_count": null,
      "outputs": [
        {
          "output_type": "stream",
          "text": [
            "11\n",
            "7\n",
            "15\n"
          ],
          "name": "stdout"
        }
      ]
    },
    {
      "cell_type": "code",
      "metadata": {
        "id": "N2chkCaXGBqR"
      },
      "source": [
        "# LESSON: Donot forget boundary cases\n",
        "\n",
        "#Question: Time Complexity = ?\n"
      ],
      "execution_count": null,
      "outputs": []
    },
    {
      "cell_type": "markdown",
      "source": [
        "The time complexity of the code example I provided for finding peaks in a list, where a peak is defined as the maximum value in a window of size 2 on both sides, is O(n), where n is the length of the list. This is because the code iterates through the list once, performing a constant number of operations for each element. The time it takes for the code to run increases linearly with the size of the input list. Is there anything else you would like to know?"
      ],
      "metadata": {
        "id": "dllBK0HRFb2h"
      }
    },
    {
      "cell_type": "markdown",
      "metadata": {
        "id": "-EY5aYZqGBqV"
      },
      "source": [
        "#### Exercise: \n",
        "1. Find peaks which are max values in a window of size 2 on both sides.\n",
        "2. Use scipy.signal.find_peaks [https://docs.scipy.org/doc/scipy/reference/generated/scipy.signal.find_peaks.html]\n",
        "\n",
        "Additional reading: More efficient algos using D&Q @ http://courses.csail.mit.edu/6.006/spring11/lectures/lec02.pdf\n",
        "\n",
        "*******\n",
        "*******\n",
        "*******\n",
        "*******\n",
        "*******\n",
        "*******\n",
        "*******\n",
        "*******\n",
        "*******\n",
        "*******"
      ]
    },
    {
      "cell_type": "code",
      "source": [
        "A = [1, 3, 7, 1, 2, 6, 4]\n",
        "\n",
        "# Check for peaks in the middle of the list\n",
        "for i in range(2, len(A) - 2):\n",
        "    if (A[i] > A[i-1]) and (A[i] > A[i-2]) and (A[i] > A[i+1]) and (A[i] > A[i+2]):\n",
        "        print(A[i])"
      ],
      "metadata": {
        "id": "AJ8TeooQFTy_",
        "outputId": "a0886244-28ce-45b7-83d1-72934bb58fed",
        "colab": {
          "base_uri": "https://localhost:8080/"
        }
      },
      "execution_count": 4,
      "outputs": [
        {
          "output_type": "stream",
          "name": "stdout",
          "text": [
            "7\n"
          ]
        }
      ]
    },
    {
      "cell_type": "markdown",
      "source": [
        "his code iterates through the list, starting from the third element and ending at the third to last element. For each element, it checks if it is greater than the two elements before it and the two elements after it. If an element is found to be a peak, it is printed. Is there anything else you would like to know?"
      ],
      "metadata": {
        "id": "G1iE-sscF0TI"
      }
    },
    {
      "cell_type": "markdown",
      "metadata": {
        "id": "jAwCAY4CGBqV"
      },
      "source": [
        "### Problem 2: Permutations of a list\n",
        "- Problem definition: lst = [1,2,3]"
      ]
    },
    {
      "cell_type": "code",
      "metadata": {
        "id": "q1htEz7RGBqW",
        "outputId": "3daef203-e25e-4582-8637-bdbc5c5eea1a"
      },
      "source": [
        "# Using libraries: the easy way\n",
        "from itertools import permutations \n",
        "  \n",
        "p = permutations([1, 2, 3]) # refer: https://docs.python.org/3/library/itertools.html#itertools.permutations\n",
        "\n",
        "# what is an iterable in Python [https://www.pythonlikeyoumeanit.com/Module2_EssentialsOfPython/Iterables.html]\n",
        "\n",
        "# print the permutations\n",
        "for i in p: \n",
        "    print(i)"
      ],
      "execution_count": null,
      "outputs": [
        {
          "output_type": "stream",
          "text": [
            "(1, 2, 3)\n",
            "(1, 3, 2)\n",
            "(2, 1, 3)\n",
            "(2, 3, 1)\n",
            "(3, 1, 2)\n",
            "(3, 2, 1)\n"
          ],
          "name": "stdout"
        }
      ]
    },
    {
      "cell_type": "code",
      "metadata": {
        "id": "SwIPjZhqGBqb",
        "outputId": "c72f8f71-6b3f-4685-831d-73647ab94620"
      },
      "source": [
        "# No fun!\n",
        "# Write your own code. Any suggestions?\n",
        "# Break the problem into smaller sub-problems\n",
        "\n",
        "\n",
        "[1,2,3]\n",
        "[1,3,2]\n",
        "[2,1,3]\n",
        "[2,3,1]\n",
        "[3,1,2]\n",
        "[3,2,1]"
      ],
      "execution_count": null,
      "outputs": [
        {
          "output_type": "execute_result",
          "data": {
            "text/plain": [
              "[3, 2, 1]"
            ]
          },
          "metadata": {
            "tags": []
          },
          "execution_count": 15
        }
      ]
    },
    {
      "cell_type": "code",
      "metadata": {
        "id": "t9vZArxDGBqh",
        "outputId": "7767843f-b48f-45a3-bf28-c51d61b4ea47"
      },
      "source": [
        "# source: https://stackoverflow.com/questions/13109274/python-recursion-permutations\n",
        "\n",
        "# NOT an optimal code. \n",
        "\n",
        "def permutation(s):\n",
        "   if len(s) == 1:\n",
        "     return [s]\n",
        "\n",
        "   perm_list = [] # resulting list\n",
        "   for a in s:\n",
        "     remaining_elements = [x for x in s if x != a]\n",
        "     z = permutation(remaining_elements) # permutations of sub-list\n",
        "\n",
        "     for t in z:\n",
        "       perm_list.append([a] + t)\n",
        "\n",
        "   return perm_list\n",
        "\n",
        "s = [1,2,3];\n",
        "p = permutation(s);\n",
        "print(p)"
      ],
      "execution_count": null,
      "outputs": [
        {
          "output_type": "stream",
          "text": [
            "[[1, 2, 3], [1, 3, 2], [2, 1, 3], [2, 3, 1], [3, 1, 2], [3, 2, 1]]\n"
          ],
          "name": "stdout"
        }
      ]
    },
    {
      "cell_type": "code",
      "metadata": {
        "id": "CbwnTpONGBqm"
      },
      "source": [
        "# Time-Complexity: ?"
      ],
      "execution_count": null,
      "outputs": []
    },
    {
      "cell_type": "markdown",
      "source": [
        "The time complexity of the provided permutation function is O(n!), where n is the length of the input list. This is because the function generates all n! permutations of the input list. The function makes a recursive call for each element of the input list, and in each recursive call, the size of the input list is reduced by 1. This results in a total of n! recursive calls, each taking O(n) time to create the remaining_elements list and to append the resulting permutations to the perm_list. Therefore, the total time complexity of the function is O(n! * n) = O(n!). Is there anything else you would like to know?"
      ],
      "metadata": {
        "id": "CDG_A8XFuE2e"
      }
    },
    {
      "cell_type": "code",
      "source": [],
      "metadata": {
        "id": "kE2iNgJltSBD"
      },
      "execution_count": null,
      "outputs": []
    },
    {
      "cell_type": "markdown",
      "source": [
        "The provided code defines a recursive function permutation that takes a list s as input and returns a list of all permutations of the input list. Here is a step-by-step explanation of how the function works:\n",
        "\n",
        "The function first checks if the length of the input list s is 1. If it is, the function returns a list containing the input list s as its only element.\n",
        "\n",
        "The function then initializes an empty list perm_list to store the resulting permutations.\n",
        "\n",
        "The function iterates through each element a in the input list s using a for loop.\n",
        "\n",
        "For each element a, the function creates a new list remaining_elements that contains all elements of the input list except for a. This is done using a list comprehension that iterates through each element x in the input list s and only includes elements that are not equal to a.\n",
        "\n",
        "The function then makes a recursive call to permutation with remaining_elements as the argument to generate all permutations of remaining_elements.\n",
        "\n",
        "For each permutation t returned by the recursive call, the function adds a back to the front of t and appends the resulting permutation to the perm_list.\n",
        "\n",
        "After all elements of the input list have been processed, the function returns the perm_list containing all permutations of the input list.\n",
        "\n",
        "This recursive approach generates all permutations of the input list by removing one element at a time, generating all permutations of the remaining elements, and then adding the removed element back to the front of each permutation. Is there anything else you would like to know?"
      ],
      "metadata": {
        "id": "3EmO_oJhto-N"
      }
    },
    {
      "cell_type": "markdown",
      "metadata": {
        "id": "jaaRmEd-GBqr"
      },
      "source": [
        "#### Exercise: [Combinations] All possible ways to pick 3 elements out of 5 elements\n",
        "\n",
        "- HINT: Use recursion. Lets work out the logic first! \"Pick one and recurse\"\n",
        "- Google \"combinations in Python\" for libraries-based solution.\n",
        "*******\n",
        "*******\n",
        "*******\n",
        "*******\n",
        "*******\n",
        "*******\n",
        "*******\n",
        "*******\n",
        "*******"
      ]
    },
    {
      "cell_type": "code",
      "source": [
        "def combinations(lst, n):\n",
        "    if n == 0:\n",
        "        return [[]]\n",
        "    result = []\n",
        "    for i in range(len(lst)):\n",
        "        c = lst[i]\n",
        "        rem_list = lst[i+1:]\n",
        "        for comb in combinations(rem_list, n-1):\n",
        "            result.append([c] + comb)\n",
        "    return result\n",
        "\n",
        "lst = [1, 2, 3, 4, 5]\n",
        "for c in combinations(lst, 3):\n",
        "    print(c)"
      ],
      "metadata": {
        "id": "szpfgDmzuYSn",
        "outputId": "2158b228-1142-4f9a-843b-fcb07d6a6502",
        "colab": {
          "base_uri": "https://localhost:8080/"
        }
      },
      "execution_count": 1,
      "outputs": [
        {
          "output_type": "stream",
          "name": "stdout",
          "text": [
            "[1, 2, 3]\n",
            "[1, 2, 4]\n",
            "[1, 2, 5]\n",
            "[1, 3, 4]\n",
            "[1, 3, 5]\n",
            "[1, 4, 5]\n",
            "[2, 3, 4]\n",
            "[2, 3, 5]\n",
            "[2, 4, 5]\n",
            "[3, 4, 5]\n"
          ]
        }
      ]
    },
    {
      "cell_type": "code",
      "source": [],
      "metadata": {
        "id": "UagVtUHNuYEt"
      },
      "execution_count": null,
      "outputs": []
    },
    {
      "cell_type": "markdown",
      "metadata": {
        "id": "y21FN-xFGBqr"
      },
      "source": [
        "### Problem 3: Solving for x: sin(x) = cos(x)\n",
        "- Plot cos(x)-sin(x) using google: \"plot cos(x)-sin(x)\"\n"
      ]
    },
    {
      "cell_type": "code",
      "metadata": {
        "id": "6c2QqFGxGBqs"
      },
      "source": [
        "# one possible value of x lies in [0, 1]\n",
        "# Any suggestions?"
      ],
      "execution_count": null,
      "outputs": []
    },
    {
      "cell_type": "code",
      "metadata": {
        "id": "PAlzp4aUGBqw"
      },
      "source": [
        "# Observation: cos(x)-sin(x) is monotonic in [0,1]\n",
        "# HINT: -----"
      ],
      "execution_count": null,
      "outputs": []
    },
    {
      "cell_type": "code",
      "source": [
        "from math import sin, cos, pi\n",
        "\n",
        "def f(x):\n",
        "    return sin(x) - cos(x)\n",
        "\n",
        "a = 0\n",
        "b = pi/2\n",
        "tolerance = 1e-6\n",
        "\n",
        "while abs(b - a) > tolerance:\n",
        "    c = (a + b)/2\n",
        "    if f(c) == 0:\n",
        "        break\n",
        "    elif f(a)*f(c) < 0:\n",
        "        b = c\n",
        "    else:\n",
        "        a = c\n",
        "\n",
        "x = (a + b)/2\n",
        "print(x)"
      ],
      "metadata": {
        "id": "PgtjTKKBuvvq",
        "outputId": "5509ab09-10d7-47b5-bd3b-bb9b05ffcea5",
        "colab": {
          "base_uri": "https://localhost:8080/"
        }
      },
      "execution_count": 2,
      "outputs": [
        {
          "output_type": "stream",
          "name": "stdout",
          "text": [
            "0.7853985379044766\n"
          ]
        }
      ]
    },
    {
      "cell_type": "code",
      "metadata": {
        "id": "Gu-3YBfbGBq0",
        "outputId": "f23e8f5a-e32c-4a9a-f6a3-a4cf6c54bb0d"
      },
      "source": [
        "import math\n",
        "\n",
        "def f(x):\n",
        "    return math.cos(x) - math.sin(x);\n",
        "\n",
        "# init\n",
        "x_l =0;\n",
        "x_u =1;\n",
        "x = (x_u + x_l)/ 2;\n",
        "\n",
        "#iterate\n",
        "while ( f(x) > 0.001): # till we are very close to zero\n",
        "    \n",
        "    print(x_l, x_u)\n",
        "    \n",
        "    x = (x_u + x_l)/2 ; # middle point\n",
        "    if f(x) > 0: # adjust x_l\n",
        "        x_l = x;\n",
        "    else:\n",
        "        x_u = x; # adjust x_u\n",
        "        \n",
        "    print(f(x), x_l, x_u)\n",
        "        \n",
        "print(\"x:\" + str(x) + \"\\t f(x): \" + str(f(x)))"
      ],
      "execution_count": null,
      "outputs": [
        {
          "output_type": "stream",
          "text": [
            "0 1\n",
            "0.39815702328616975 0.5 1\n",
            "0.5 1\n",
            "0.05005010885048666 0.75 1\n",
            "0.75 1\n",
            "-0.12654664407270177 0.75 0.875\n",
            "x:0.875\t f(x): -0.12654664407270177\n"
          ],
          "name": "stdout"
        }
      ]
    },
    {
      "cell_type": "code",
      "metadata": {
        "id": "lbSH1yHNGBq3",
        "outputId": "9e3bac93-66d2-479c-a3e9-c4df7cf8a1ae"
      },
      "source": [
        "import math\n",
        "\n",
        "def f(x):\n",
        "    return math.cos(x) - math.sin(x);\n",
        "\n",
        "# init\n",
        "x_l =0;\n",
        "x_u =1;\n",
        "x = (x_u + x_l)/ 2;\n",
        "\n",
        "#iterate\n",
        "while ( math.abs(f(x)) > 0.001): # till we are very close to zero\n",
        "    \n",
        "    print(x_l, x_u)\n",
        "    \n",
        "    x = (x_u + x_l)/2 ; # middle point\n",
        "    if f(x) > 0: # adjust x_l\n",
        "        x_l = x;\n",
        "    else:\n",
        "        x_u = x; # adjust x_u\n",
        "        \n",
        "    print(f(x), x_l, x_u)\n",
        "        \n",
        "print(\"x:\" + str(x) + \"\\t f(x): \" + str(f(x)))"
      ],
      "execution_count": null,
      "outputs": [
        {
          "output_type": "error",
          "ename": "AttributeError",
          "evalue": "module 'math' has no attribute 'abs'",
          "traceback": [
            "\u001b[0;31m---------------------------------------------------------------------------\u001b[0m",
            "\u001b[0;31mAttributeError\u001b[0m                            Traceback (most recent call last)",
            "\u001b[0;32m<ipython-input-37-207102861846>\u001b[0m in \u001b[0;36m<module>\u001b[0;34m\u001b[0m\n\u001b[1;32m     10\u001b[0m \u001b[0;34m\u001b[0m\u001b[0m\n\u001b[1;32m     11\u001b[0m \u001b[0;31m#iterate\u001b[0m\u001b[0;34m\u001b[0m\u001b[0;34m\u001b[0m\u001b[0;34m\u001b[0m\u001b[0m\n\u001b[0;32m---> 12\u001b[0;31m \u001b[0;32mwhile\u001b[0m \u001b[0;34m(\u001b[0m \u001b[0mmath\u001b[0m\u001b[0;34m.\u001b[0m\u001b[0mabs\u001b[0m\u001b[0;34m(\u001b[0m\u001b[0mf\u001b[0m\u001b[0;34m(\u001b[0m\u001b[0mx\u001b[0m\u001b[0;34m)\u001b[0m\u001b[0;34m)\u001b[0m \u001b[0;34m>\u001b[0m \u001b[0;36m0.001\u001b[0m\u001b[0;34m)\u001b[0m\u001b[0;34m:\u001b[0m \u001b[0;31m# till we are very close to zero\u001b[0m\u001b[0;34m\u001b[0m\u001b[0;34m\u001b[0m\u001b[0m\n\u001b[0m\u001b[1;32m     13\u001b[0m \u001b[0;34m\u001b[0m\u001b[0m\n\u001b[1;32m     14\u001b[0m     \u001b[0mprint\u001b[0m\u001b[0;34m(\u001b[0m\u001b[0mx_l\u001b[0m\u001b[0;34m,\u001b[0m \u001b[0mx_u\u001b[0m\u001b[0;34m)\u001b[0m\u001b[0;34m\u001b[0m\u001b[0;34m\u001b[0m\u001b[0m\n",
            "\u001b[0;31mAttributeError\u001b[0m: module 'math' has no attribute 'abs'"
          ]
        }
      ]
    },
    {
      "cell_type": "code",
      "metadata": {
        "id": "v258O78FGBq9",
        "outputId": "17b39910-a516-4f2a-b69e-d79d1c4d1d63",
        "colab": {
          "base_uri": "https://localhost:8080/"
        }
      },
      "source": [
        "import math\n",
        "\n",
        "def f(x):\n",
        "    return math.cos(x) - math.sin(x);\n",
        "\n",
        "# init\n",
        "x_l =0;\n",
        "x_u =1;\n",
        "x = (x_u + x_l)/ 2;\n",
        "\n",
        "#iterate\n",
        "while ( abs(f(x)) > 0.0001): # till we are very close to zero\n",
        "    \n",
        "    print(x_l, x_u)\n",
        "    \n",
        "    x = (x_u + x_l)/2 ; # middle point\n",
        "    if f(x) > 0: # adjust x_l\n",
        "        x_l = x;\n",
        "    else: # adjust x_u\n",
        "        x_u = x;\n",
        "        \n",
        "    print(f(x), x_l, x_u)\n",
        "        \n",
        "print(\"x:\" + str(x) + \"\\t f(x): \" + str(f(x)))"
      ],
      "execution_count": 3,
      "outputs": [
        {
          "output_type": "stream",
          "name": "stdout",
          "text": [
            "0 1\n",
            "0.39815702328616975 0.5 1\n",
            "0.5 1\n",
            "0.050050108850486774 0.75 1\n",
            "0.75 1\n",
            "-0.126546644072702 0.75 0.875\n",
            "0.75 0.875\n",
            "-0.038323093040207756 0.75 0.8125\n",
            "0.75 0.8125\n",
            "0.005866372111545948 0.78125 0.8125\n",
            "0.78125 0.8125\n",
            "-0.01623034166690196 0.78125 0.796875\n",
            "0.78125 0.796875\n",
            "-0.005182142923325084 0.78125 0.7890625\n",
            "0.78125 0.7890625\n",
            "0.0003421172042542553 0.78515625 0.7890625\n",
            "0.78515625 0.7890625\n",
            "-0.002420017475351033 0.78515625 0.787109375\n",
            "0.78515625 0.787109375\n",
            "-0.0010389506309586016 0.78515625 0.7861328125\n",
            "0.78515625 0.7861328125\n",
            "-0.00034841675488672674 0.78515625 0.78564453125\n",
            "0.78515625 0.78564453125\n",
            "-3.1497754101605935e-06 0.78515625 0.785400390625\n",
            "x:0.785400390625\t f(x): -3.1497754101605935e-06\n"
          ]
        }
      ]
    },
    {
      "cell_type": "markdown",
      "metadata": {
        "id": "8DYM8XfTGBrB"
      },
      "source": [
        "##### LESSON: Bisection-method uses binary search in the given interval.\n",
        "\n",
        "#### Exercise:  Solve for x in x^5 - x^4 + 2*x^3 - x^2 + x = 3\n",
        "\n",
        "- Follow the same steps as above\n",
        "\n",
        "\n",
        "#### Additional reading:  Newton-Raphson Method\n",
        "- Explnantion: https://brilliant.org/wiki/newton-raphson-method/ [Faster than bisection]\n",
        "- Code: https://www.geeksforgeeks.org/program-for-newton-raphson-method/\n",
        "- We will cover gradient based methods when we arrive at Optimization topics in the course.\n",
        "*******\n",
        "*******\n",
        "*******\n",
        "**************\n",
        "*******\n",
        "*******\n",
        "*******\n",
        "*******\n",
        "*******\n"
      ]
    },
    {
      "cell_type": "code",
      "source": [
        "def f(x):\n",
        "    return x**5 - x**4 + 2*x**3 - x**2 + x - 3\n",
        "\n",
        "def bisection(a, b, tol):\n",
        "    if f(a) * f(b) >= 0:\n",
        "        print(\"Bisection method fails.\")\n",
        "        return None\n",
        "    c = a\n",
        "    while (b-a) >= tol:\n",
        "        c = (a+b)/2\n",
        "        if f(c) == 0.0:\n",
        "            break\n",
        "        if f(c)*f(a) < 0:\n",
        "            b = c\n",
        "        else:\n",
        "            a = c\n",
        "    return c\n",
        "\n",
        "a = 0.0\n",
        "b = 1.0\n",
        "tol = 0.0001\n",
        "\n",
        "print(bisection(a, b, tol))"
      ],
      "metadata": {
        "id": "z8-nyZLd1BQv",
        "outputId": "506cf6b6-1d65-4ae4-cd8c-c27e82ed8798",
        "colab": {
          "base_uri": "https://localhost:8080/"
        }
      },
      "execution_count": 4,
      "outputs": [
        {
          "output_type": "stream",
          "name": "stdout",
          "text": [
            "Bisection method fails.\n",
            "None\n"
          ]
        }
      ]
    },
    {
      "cell_type": "code",
      "source": [],
      "metadata": {
        "id": "UnXaA1Hh0t3k"
      },
      "execution_count": null,
      "outputs": []
    },
    {
      "cell_type": "markdown",
      "metadata": {
        "id": "7G8R_70GGBrC"
      },
      "source": [
        "### Problem 4: Find area under a curve sin(x)/x in the interval [-10, 10]\n",
        "- Gogole \"plot sin(x)/x\"\n",
        "- Sorry, \"Gogol\" is a russian author. Please \"Google\"!"
      ]
    },
    {
      "cell_type": "code",
      "metadata": {
        "id": "iy51uIixGBrD",
        "outputId": "d4ddac44-168e-443e-e9bc-8e57fbfc1b37"
      },
      "source": [
        "# images-source: http://www.mathcs.emory.edu/~cheung/Courses/170/Syllabus/07/rectangle-method.html\n",
        "from IPython.display import Image\n",
        "Image(url= \"http://www.mathcs.emory.edu/~cheung/Courses/170/Syllabus/07/FIGS/rectangle05.gif\")\n"
      ],
      "execution_count": null,
      "outputs": [
        {
          "output_type": "execute_result",
          "data": {
            "text/html": [
              "<img src=\"http://www.mathcs.emory.edu/~cheung/Courses/170/Syllabus/07/FIGS/rectangle05.gif\"/>"
            ],
            "text/plain": [
              "<IPython.core.display.Image object>"
            ]
          },
          "metadata": {
            "tags": []
          },
          "execution_count": 40
        }
      ]
    },
    {
      "cell_type": "code",
      "metadata": {
        "id": "RSMh56sQGBrI",
        "outputId": "8a937afe-ab23-4e25-da7e-4347e32f2cd0"
      },
      "source": [
        "Image(url= \"http://www.mathcs.emory.edu/~cheung/Courses/170/Syllabus/07/FIGS/rectangle06.gif\")"
      ],
      "execution_count": null,
      "outputs": [
        {
          "output_type": "execute_result",
          "data": {
            "text/html": [
              "<img src=\"http://www.mathcs.emory.edu/~cheung/Courses/170/Syllabus/07/FIGS/rectangle06.gif\"/>"
            ],
            "text/plain": [
              "<IPython.core.display.Image object>"
            ]
          },
          "metadata": {
            "tags": []
          },
          "execution_count": 41
        }
      ]
    },
    {
      "cell_type": "code",
      "metadata": {
        "colab": {
          "base_uri": "https://localhost:8080/"
        },
        "id": "-Elg5kZV0qVJ",
        "outputId": "ae6e394c-2e1a-43e2-a5fe-df145795715f"
      },
      "source": [
        "def findPeakUtil(arr, low, high, n):\n",
        "   \n",
        "    # Find index of middle element\n",
        "    # (low + high)/2\n",
        "    mid = low + (high - low)/2\n",
        "    mid = int(mid)\n",
        "   \n",
        "    # Compare middle element with its\n",
        "    # neighbours (if neighbours exist)\n",
        "    if ((mid == 0 or arr[mid - 1] <= arr[mid]) and\n",
        "        (mid == n - 1 or arr[mid + 1] <= arr[mid])):\n",
        "        return arr[mid]\n",
        "    # If middle element is not peak and\n",
        "    # its left neighbour is greater\n",
        "    # than it, then left half must\n",
        "    # have a peak element\n",
        "    elif (mid > 0 and arr[mid - 1] > arr[mid]):\n",
        "        return findPeakUtil(arr, low, (mid - 1), n)\n",
        "    # If middle element is not peak and\n",
        "    # its right neighbour is greater\n",
        "    # than it, then right half must\n",
        "    # have a peak element\n",
        "    else:\n",
        "        return findPeakUtil(arr, (mid + 1), high, n)\n",
        "\n",
        "\n",
        "# A wrapper over recursive\n",
        "# function findPeakUtil()\n",
        "def findPeak(arr, n):\n",
        "\n",
        "    return findPeakUtil(arr, 0, n - 1, n)\n",
        "\n",
        "\n",
        "# Driver code\n",
        "arr = [1,6,4,1,3,2,8,3]\n",
        "n = len(arr)\n",
        "print(\"Index of a peak point is\", findPeak(arr, n)) \n",
        "\n",
        "\n"
      ],
      "execution_count": null,
      "outputs": [
        {
          "output_type": "stream",
          "text": [
            "Index of a peak point is 6\n"
          ],
          "name": "stdout"
        }
      ]
    },
    {
      "cell_type": "code",
      "metadata": {
        "id": "OfFNJMX40r3b"
      },
      "source": [],
      "execution_count": null,
      "outputs": []
    }
  ]
}