{
  "cells": [
    {
      "cell_type": "markdown",
      "metadata": {
        "id": "view-in-github",
        "colab_type": "text"
      },
      "source": [
        "<a href=\"https://colab.research.google.com/github/sagar431/appliedai-live-season-for-module-1-/blob/main/Multithreading_in_Python_for_AI_ML.ipynb\" target=\"_parent\"><img src=\"https://colab.research.google.com/assets/colab-badge.svg\" alt=\"Open In Colab\"/></a>"
      ]
    },
    {
      "cell_type": "code",
      "metadata": {
        "id": "BiIrUwlc5vxg"
      },
      "source": [
        "By AppliedAICourse.com"
      ],
      "execution_count": null,
      "outputs": []
    },
    {
      "cell_type": "code",
      "execution_count": 1,
      "metadata": {
        "colab": {
          "base_uri": "https://localhost:8080/"
        },
        "id": "BWtzAAvL6DOK",
        "outputId": "efbb26ed-744f-4b16-cc9d-5ce84ee0fb08"
      },
      "outputs": [
        {
          "output_type": "stream",
          "name": "stdout",
          "text": [
            "Architecture:                    x86_64\n",
            "CPU op-mode(s):                  32-bit, 64-bit\n",
            "Byte Order:                      Little Endian\n",
            "Address sizes:                   46 bits physical, 48 bits virtual\n",
            "CPU(s):                          2\n",
            "On-line CPU(s) list:             0,1\n",
            "Thread(s) per core:              2\n",
            "Core(s) per socket:              1\n",
            "Socket(s):                       1\n",
            "NUMA node(s):                    1\n",
            "Vendor ID:                       GenuineIntel\n",
            "CPU family:                      6\n",
            "Model:                           79\n",
            "Model name:                      Intel(R) Xeon(R) CPU @ 2.20GHz\n",
            "Stepping:                        0\n",
            "CPU MHz:                         2199.998\n",
            "BogoMIPS:                        4399.99\n",
            "Hypervisor vendor:               KVM\n",
            "Virtualization type:             full\n",
            "L1d cache:                       32 KiB\n",
            "L1i cache:                       32 KiB\n",
            "L2 cache:                        256 KiB\n",
            "L3 cache:                        55 MiB\n",
            "NUMA node0 CPU(s):               0,1\n",
            "Vulnerability Itlb multihit:     Not affected\n",
            "Vulnerability L1tf:              Mitigation; PTE Inversion\n",
            "Vulnerability Mds:               Vulnerable; SMT Host state unknown\n",
            "Vulnerability Meltdown:          Vulnerable\n",
            "Vulnerability Mmio stale data:   Vulnerable\n",
            "Vulnerability Retbleed:          Vulnerable\n",
            "Vulnerability Spec store bypass: Vulnerable\n",
            "Vulnerability Spectre v1:        Vulnerable: __user pointer sanitization and use\n",
            "                                 rcopy barriers only; no swapgs barriers\n",
            "Vulnerability Spectre v2:        Vulnerable, IBPB: disabled, STIBP: disabled, PB\n",
            "                                 RSB-eIBRS: Not affected\n",
            "Vulnerability Srbds:             Not affected\n",
            "Vulnerability Tsx async abort:   Vulnerable\n",
            "Flags:                           fpu vme de pse tsc msr pae mce cx8 apic sep mtr\n",
            "                                 r pge mca cmov pat pse36 clflush mmx fxsr sse s\n",
            "                                 se2 ss ht syscall nx pdpe1gb rdtscp lm constant\n",
            "                                 _tsc rep_good nopl xtopology nonstop_tsc cpuid \n",
            "                                 tsc_known_freq pni pclmulqdq ssse3 fma cx16 pci\n",
            "                                 d sse4_1 sse4_2 x2apic movbe popcnt aes xsave a\n",
            "                                 vx f16c rdrand hypervisor lahf_lm abm 3dnowpref\n",
            "                                 etch invpcid_single ssbd ibrs ibpb stibp fsgsba\n",
            "                                 se tsc_adjust bmi1 hle avx2 smep bmi2 erms invp\n",
            "                                 cid rtm rdseed adx smap xsaveopt arat md_clear \n",
            "                                 arch_capabilities\n"
          ]
        }
      ],
      "source": [
        "# Number of CPUs and Threads in Linux.\n",
        "# Refer: https://linux.die.net/man/1/lscpu\n",
        "!lscpu\n"
      ]
    },
    {
      "cell_type": "code",
      "execution_count": 2,
      "metadata": {
        "id": "7jzYVMilLmyP",
        "outputId": "d6dbd929-5c31-4fa2-c023-19e1bc55e3f2",
        "colab": {
          "base_uri": "https://localhost:8080/"
        }
      },
      "outputs": [
        {
          "output_type": "stream",
          "name": "stdout",
          "text": [
            "/bin/bash: system_profiler: command not found\n"
          ]
        }
      ],
      "source": [
        "# for Mac\n",
        "!system_profiler SPHardwareDataType; "
      ]
    },
    {
      "cell_type": "markdown",
      "source": [
        "The text !system_profiler SPHardwareDataType; is a command that can be run on macOS systems. It retrieves information about the hardware of a Mac computer. The system_profiler command retrieves system information and SPHardwareDataType specifies that the information should be about the hardware of the system. This command outputs a string with the hardware name and versioning "
      ],
      "metadata": {
        "id": "XMCD3y0DM-si"
      }
    },
    {
      "cell_type": "markdown",
      "metadata": {
        "id": "d6rvY6mU9Ngm"
      },
      "source": [
        "## Mean of 100 Million observations"
      ]
    },
    {
      "cell_type": "code",
      "execution_count": 3,
      "metadata": {
        "colab": {
          "base_uri": "https://localhost:8080/"
        },
        "id": "3KofCQBP6zbT",
        "outputId": "9f903993-4779-478c-a76e-f3d2a644b2e5"
      },
      "outputs": [
        {
          "output_type": "stream",
          "name": "stdout",
          "text": [
            "(100000000,)\n"
          ]
        }
      ],
      "source": [
        "# Generate random 100MM data points \n",
        "import numpy as np\n",
        "n =100000000\n",
        "d = np.random.rand(n)\n",
        "print(d.shape)"
      ]
    },
    {
      "cell_type": "code",
      "execution_count": 4,
      "metadata": {
        "colab": {
          "base_uri": "https://localhost:8080/"
        },
        "id": "okpN0WRo9qYk",
        "outputId": "4cfe27d6-0657-4df2-c32b-593e2cfd6098"
      },
      "outputs": [
        {
          "output_type": "stream",
          "name": "stdout",
          "text": [
            "20.373555421829224\n",
            "0.49997008813824245\n"
          ]
        }
      ],
      "source": [
        "import time\n",
        "def mean():\n",
        "\n",
        "  #Sum using for loops. We can use inbuilt NumPy Sum opeartion for better speed.\n",
        "  sum = 0\n",
        "  n=d.size\n",
        "  for i in range(n):\n",
        "    sum +=d[i]\n",
        "\n",
        "  #Mean\n",
        "  mean = sum/n\n",
        "  return mean\n",
        "\n",
        "\n",
        "#Time the execution\n",
        "start_time = time.time()\n",
        "m = mean() # compute mean of 100MM numbers.\n",
        "end_time = time.time()\n",
        "print (end_time-start_time)\n",
        "print(m)"
      ]
    },
    {
      "cell_type": "markdown",
      "metadata": {
        "id": "vic-5rdM-j27"
      },
      "source": [
        "### Multi-Processing Code"
      ]
    },
    {
      "cell_type": "code",
      "execution_count": 5,
      "metadata": {
        "colab": {
          "base_uri": "https://localhost:8080/"
        },
        "id": "f4m9X5dw-Pvh",
        "outputId": "0ccde05a-75a4-453f-a9b6-f2094bff85a3"
      },
      "outputs": [
        {
          "output_type": "stream",
          "name": "stdout",
          "text": [
            "22.168758630752563\n",
            "0.49997008813831967\n"
          ]
        }
      ],
      "source": [
        "#Refer: https://docs.python.org/3/library/multiprocessing.html\n",
        "from multiprocessing import Process, Queue\n",
        "import math\n",
        "\n",
        "def mean_MP(s, e, q ):\n",
        "\n",
        "  #Sum using for loops. We can use inbuilt NumPy Sum opeartion for better speed.\n",
        "  sum = 0\n",
        "  for i in range(s,e+1):\n",
        "    sum +=d[i]\n",
        "\n",
        "  #Mean\n",
        "  mean = sum/(e-s+1)\n",
        "  q.put(mean)\n",
        "  return \n",
        "\n",
        "n1 = math.floor(n/2)\n",
        "\n",
        "q = Queue() #Queues are thread and process safe. For communicating between processes and threads.\n",
        "\n",
        "p1 = Process(target=mean_MP, args=(0, n1,q )) \n",
        "p2 = Process(target=mean_MP, args=(n1+1,n-1, q)) \n",
        "\n",
        "\n",
        "#Time the execution\n",
        "start_time = time.time()\n",
        "\n",
        "p1.start()\n",
        "p2.start()\n",
        "\n",
        "p1.join() # Wait till p1 finishes\n",
        "p2.join() \n",
        "\n",
        "m=0;\n",
        "while not q.empty():\n",
        "     m += q.get()\n",
        "\n",
        "m /= 2;\n",
        "    \n",
        "end_time = time.time()\n",
        "print (end_time-start_time)\n",
        "print(m)\n"
      ]
    },
    {
      "cell_type": "markdown",
      "source": [
        "Sure! Here's an explanation of the code line by line:\n",
        "\n",
        "```python\n",
        "from multiprocessing import Process, Queue\n",
        "```\n",
        "This line imports the `Process` and `Queue` classes from the `multiprocessing` module.\n",
        "\n",
        "```python\n",
        "import math\n",
        "```\n",
        "This line imports the `math` module.\n",
        "\n",
        "```python\n",
        "def mean_MP(s, e, q):\n",
        "```\n",
        "This line defines a function named `mean_MP` that takes three arguments: `s`, `e`, and `q`. `s` and `e` are the start and end indices of a portion of an array, and `q` is a `Queue` object for inter-process communication.\n",
        "\n",
        "```python\n",
        "    sum = 0\n",
        "```\n",
        "This line initializes a variable named `sum` to 0. This variable will be used to store the sum of the elements in the specified portion of the array.\n",
        "\n",
        "```python\n",
        "    for i in range(s,e+1):\n",
        "        sum +=d[i]\n",
        "```\n",
        "These lines calculate the sum of the elements in the specified portion of the array. The `for` loop iterates over the indices from `s` to `e`, inclusive. In each iteration, the value of the element at index `i` is added to the `sum`.\n",
        "\n",
        "```python\n",
        "    mean = sum/(e-s+1)\n",
        "```\n",
        "This line calculates the mean of the elements in the specified portion of the array by dividing the sum by the number of elements.\n",
        "\n",
        "```python\n",
        "    q.put(mean)\n",
        "```\n",
        "This line puts the calculated mean into the queue.\n",
        "\n",
        "```python\n",
        "    return\n",
        "```\n",
        "This line marks the end of the function.\n",
        "\n",
        "```python\n",
        "n1 = math.floor(n/2)\n",
        "```\n",
        "This line calculates half of the value of `n`, rounds it down to the nearest integer using the `floor` function from the `math` module, and assigns it to a variable named `n1`.\n",
        "\n",
        "```python\n",
        "q = Queue()\n",
        "```\n",
        "This line creates a new `Queue` object and assigns it to a variable named `q`.\n",
        "\n",
        "```python\n",
        "p1 = Process(target=mean_MP, args=(0, n1,q))\n",
        "p2 = Process(target=mean_MP, args=(n1+1,n-1, q))\n",
        "```\n",
        "These lines create two new processes using the `Process` class. The target function for both processes is set to `mean_MP`. The arguments for the first process are `(0, n1,q)`, which means that this process will calculate the mean of the first half of array `d`. The arguments for the second process are `(n1+1,n-1, q)`, which means that this process will calculate the mean of second half of array `d`.\n",
        "\n",
        "```python\n",
        "start_time = time.time()\n",
        "```\n",
        "This line records the current time in seconds since epoch and assigns it to a variable named `start_time`. This is used to measure how long it takes for both processes to finish execution.\n",
        "\n",
        "```python\n",
        "p1.start()\n",
        "p2.start()\n",
        "```\n",
        "These lines start both processes.\n",
        "\n",
        "```python\n",
        "p1.join()\n",
        "p2.join()\n",
        "```\n",
        "These lines wait for both processes to finish execution.\n",
        "\n",
        "```python\n",
        "m=0;\n",
        "while not q.empty():\n",
        "    m += q.get()\n",
        "m /= 2;\n",
        "```\n",
        "These lines calculate final mean by taking average of two means in queue. The while loop iterates until queue is empty. In each iteration, value from queue is added to m. After while loop ends m is divided by 2 to get final mean.\n",
        "\n",
        "```python\n",
        "end_time = time.time()\n",
        "print(end_time-start_time)\n",
        "print(m)\n",
        "```\n",
        "These lines record current time in seconds since epoch and assign it to a variable named end_time. Then difference between end_time and start_time is printed which gives time taken by both processes to finish execution. Final mean is also printed.\n",
        "\n",
        "I hope this explanation helps! Is there anything else you would like to know?"
      ],
      "metadata": {
        "id": "vWI1R9cTQhoS"
      }
    },
    {
      "cell_type": "markdown",
      "source": [],
      "metadata": {
        "id": "DDTz4n14Pr75"
      }
    },
    {
      "cell_type": "markdown",
      "metadata": {
        "id": "ULOxciOKLmya"
      },
      "source": [
        "### Multi-Threaded Code"
      ]
    },
    {
      "cell_type": "code",
      "execution_count": null,
      "metadata": {
        "id": "YshhXuWxLmyc",
        "outputId": "f352734c-7a51-4a15-aa16-9850de098236"
      },
      "outputs": [
        {
          "name": "stdout",
          "output_type": "stream",
          "text": [
            "19.538660049438477\n",
            "0.4999477716457993\n"
          ]
        }
      ],
      "source": [
        "#Refer: https://docs.python.org/3/library/threading.html\n",
        "from threading import Thread\n",
        "\n",
        "\n",
        "means = [0,0];\n",
        "\n",
        "def mean_MT(s, e, threadNum ):\n",
        "\n",
        "  #Sum using for loops. We can use inbuilt NumPy Sum opeartion for better speed.\n",
        "  sum = 0\n",
        "  for i in range(s,e+1):\n",
        "    sum +=d[i]\n",
        "\n",
        "  #Mean\n",
        "  mean = sum/(e-s+1)\n",
        "  means[threadNum] = mean; # means is a shared varibale between the threads\n",
        "\n",
        "  return \n",
        "\n",
        "n1 = math.floor(n/2)\n",
        "\n",
        "t1 = Thread(target=mean_MT, args=(0, n1,0 ))  # Third apram is the thread number\n",
        "t2 = Thread(target=mean_MT, args=(n1+1,n-1,1)) \n",
        "\n",
        "#Time the execution\n",
        "start_time = time.time()\n",
        "\n",
        "t1.start()\n",
        "t2.start()\n",
        "\n",
        "t1.join() # Wait till t1 finishes\n",
        "t2.join() \n",
        "\n",
        "m = (means[0]+means[1])/2\n",
        "    \n",
        "end_time = time.time()\n",
        "print (end_time-start_time)\n",
        "print(m)\n",
        "\n"
      ]
    },
    {
      "cell_type": "markdown",
      "source": [
        "This code is an example of multithreading in Python using the `threading` module. The code calculates the mean of an array `d` using two threads. Here's an explanation of the code line by line:\n",
        "\n",
        "```python\n",
        "from threading import Thread\n",
        "```\n",
        "This line imports the `Thread` class from the `threading` module.\n",
        "\n",
        "```python\n",
        "means = [0,0];\n",
        "```\n",
        "This line initializes a list named `means` with two elements, both set to 0. This list will be used to store the means calculated by the two threads.\n",
        "\n",
        "```python\n",
        "def mean_MT(s, e, threadNum):\n",
        "```\n",
        "This line defines a function named `mean_MT` that takes three arguments: `s`, `e`, and `threadNum`. `s` and `e` are the start and end indices of a portion of an array, and `threadNum` is an integer representing the thread number.\n",
        "\n",
        "```python\n",
        "    sum = 0\n",
        "```\n",
        "This line initializes a variable named `sum` to 0. This variable will be used to store the sum of the elements in the specified portion of the array.\n",
        "\n",
        "```python\n",
        "    for i in range(s,e+1):\n",
        "        sum +=d[i]\n",
        "```\n",
        "These lines calculate the sum of the elements in the specified portion of the array. The `for` loop iterates over the indices from `s` to `e`, inclusive. In each iteration, the value of the element at index `i` is added to the `sum`.\n",
        "\n",
        "```python\n",
        "    mean = sum/(e-s+1)\n",
        "```\n",
        "This line calculates the mean of the elements in the specified portion of the array by dividing the sum by the number of elements.\n",
        "\n",
        "```python\n",
        "    means[threadNum] = mean;\n",
        "```\n",
        "This line assigns the calculated mean to the element at index `threadNum` in the list `means`.\n",
        "\n",
        "```python\n",
        "    return\n",
        "```\n",
        "This line marks the end of the function.\n",
        "\n",
        "```python\n",
        "n1 = math.floor(n/2)\n",
        "```\n",
        "This line calculates half of the value of `n`, rounds it down to the nearest integer using the `floor` function from the `math` module, and assigns it to a variable named `n1`.\n",
        "\n",
        "```python\n",
        "t1 = Thread(target=mean_MT, args=(0, n1,0))\n",
        "t2 = Thread(target=mean_MT, args=(n1+1,n-1,1))\n",
        "```\n",
        "These lines create two new threads using the `Thread` class. The target function for both threads is set to `mean_MT`. The arguments for the first thread are `(0, n1,0)`, which means that this thread will calculate the mean of the first half of array `d`. The third argument is 0, representing that this is thread number 0. The arguments for the second thread are `(n1+1,n-1, 1)`, which means that this thread will calculate mean of second half of array d. The third argument is 1 representing that this is thread number 1.\n",
        "\n",
        "```python\n",
        "start_time = time.time()\n",
        "```\n",
        "This line records current time in seconds since epoch and assigns it to a variable named start_time. This is used to measure how long it takes for both threads to finish execution.\n",
        "\n",
        "```python\n",
        "t1.start()\n",
        "t2.start()\n",
        "```\n",
        "These lines start both threads.\n",
        "\n",
        "```python\n",
        "t1.join()\n",
        "t2.join()\n",
        "```\n",
        "These lines wait for both threads to finish execution.\n",
        "\n",
        "```python\n",
        "m = (means[0]+means[1])/2\n",
        "```\n",
        "This line calculates final mean by taking average of two means in list means.\n",
        "\n",
        "```python\n",
        "end_time = time.time()\n",
        "print (end_time-start_time)\n",
        "print(m)\n",
        "```\n",
        "These lines record current time in seconds since epoch and assign it to a variable named end_time. Then difference between end_time and start_time is printed which gives time taken by both threads to finish execution. Final mean is also printed.\n",
        "\n",
        "I hope this explanation helps! Is there anything else you would like to know?"
      ],
      "metadata": {
        "id": "ISFgRfKIYH1C"
      }
    },
    {
      "cell_type": "markdown",
      "metadata": {
        "id": "sIDH8oauLmye"
      },
      "source": [
        "## Joblib\n"
      ]
    },
    {
      "cell_type": "markdown",
      "metadata": {
        "id": "MN8HFum1Lmyf"
      },
      "source": [
        "### Caching of function output values"
      ]
    },
    {
      "cell_type": "code",
      "execution_count": null,
      "metadata": {
        "id": "7t3FDlETLmyg",
        "outputId": "613ad998-5601-427e-80f2-42fdd72ec885"
      },
      "outputs": [
        {
          "name": "stdout",
          "output_type": "stream",
          "text": [
            "________________________________________________________________________________\n",
            "[Memory] Calling square...\n",
            "square(array([[0., 0., 1.],\n",
            "       [1., 1., 1.],\n",
            "       [4., 2., 1.]]))\n",
            "___________________________________________________________square - 0.0s, 0.0min\n"
          ]
        }
      ],
      "source": [
        "\n",
        "#Transparent and fast disk-caching of output value\n",
        "# Refer: https://joblib.readthedocs.io/en/latest/\n",
        "from joblib import Memory\n",
        "cachedir = './'\n",
        "mem = Memory(cachedir)\n",
        "\n",
        "import numpy as np\n",
        "a = np.vander(np.arange(3)).astype(np.float)\n",
        "square = mem.cache(np.square)\n",
        "b = square(a)                                   "
      ]
    },
    {
      "cell_type": "markdown",
      "source": [
        "This code is an example of using the `joblib` library to cache the output of a function for faster repeated access. Here's an explanation of the code line by line:\n",
        "\n",
        "```python\n",
        "from joblib import Memory\n",
        "```\n",
        "This line imports the `Memory` class from the `joblib` module.\n",
        "\n",
        "```python\n",
        "cachedir = './'\n",
        "mem = Memory(cachedir)\n",
        "```\n",
        "These lines create a new `Memory` object and assign it to a variable named `mem`. The `cachedir` argument specifies the directory where cache files will be stored.\n",
        "\n",
        "```python\n",
        "import numpy as np\n",
        "```\n",
        "This line imports the `numpy` module.\n",
        "\n",
        "```python\n",
        "a = np.vander(np.arange(3)).astype(np.float)\n",
        "```\n",
        "This line creates a Vandermonde matrix using the `vander` function from the `numpy` module. The input to the function is an array created using the `arange` function. The resulting matrix is then cast to a float data type using the `astype` method.\n",
        "\n",
        "```python\n",
        "square = mem.cache(np.square)\n",
        "```\n",
        "This line creates a cached version of the `square` function from the `numpy` module using the `cache` method of the `Memory` object. The cached version of the function is assigned to a variable named `square`.\n",
        "\n",
        "```python"
      ],
      "metadata": {
        "id": "GdL742nh59RX"
      }
    },
    {
      "cell_type": "code",
      "execution_count": null,
      "metadata": {
        "id": "iYyPNqHaLmyh"
      },
      "outputs": [],
      "source": [
        "c = square(a)\n",
        "# The above call did not trigger an evaluation"
      ]
    },
    {
      "cell_type": "markdown",
      "metadata": {
        "id": "bL5tGlmPLmyi"
      },
      "source": [
        "### Simple Parallel programming for Loops"
      ]
    },
    {
      "cell_type": "code",
      "execution_count": 1,
      "metadata": {
        "id": "h5mTHY_ALmyj",
        "outputId": "405a9df9-fbae-4cac-e4fc-6bbf31283d06",
        "colab": {
          "base_uri": "https://localhost:8080/"
        }
      },
      "outputs": [
        {
          "output_type": "stream",
          "name": "stdout",
          "text": [
            "30.959859132766724\n"
          ]
        }
      ],
      "source": [
        "# Refer: https://joblib.readthedocs.io/en/latest/generated/joblib.Parallel.html\n",
        "\n",
        "import time\n",
        "from math import sqrt # inbuilt fucntion\n",
        "\n",
        "def f(i):\n",
        "    \n",
        "    # some computations  that take time\n",
        "    x=10000\n",
        "    p =1;\n",
        "    for j in range(x):\n",
        "        for k in range(j):\n",
        "            p *= k\n",
        "    \n",
        "    return sqrt(i ** 2);\n",
        "\n",
        "# Find sqrt of first n numbers\n",
        "n=10;\n",
        "\n",
        "start_time = time.time()\n",
        "\n",
        "for i in range(n):\n",
        "    f(i)\n",
        "\n",
        "end_time = time.time()\n",
        "print (end_time-start_time)"
      ]
    },
    {
      "cell_type": "code",
      "execution_count": 2,
      "metadata": {
        "id": "K9ErQujtLmyj",
        "outputId": "7eb1662d-8e9f-4129-a8ae-5176abf2c8a5",
        "colab": {
          "base_uri": "https://localhost:8080/"
        }
      },
      "outputs": [
        {
          "output_type": "stream",
          "name": "stdout",
          "text": [
            "25.22343945503235\n"
          ]
        }
      ],
      "source": [
        "from joblib import Parallel, delayed\n",
        "\n",
        "start_time = time.time()\n",
        "\n",
        "a = Parallel(n_jobs=2)(delayed(f)(i) for i in range(n)) \n",
        "\n",
        "# Why we need dealyed(): https://stackoverflow.com/questions/42220458/what-does-the-delayed-function-do-when-used-with-joblib-in-python\n",
        "\n",
        "end_time = time.time()\n",
        "print (end_time-start_time)"
      ]
    },
    {
      "cell_type": "code",
      "execution_count": 3,
      "metadata": {
        "id": "_1I56SnmLmyk",
        "outputId": "42ae4edf-0fe6-4674-db82-40a232ef448d",
        "colab": {
          "base_uri": "https://localhost:8080/"
        }
      },
      "outputs": [
        {
          "output_type": "stream",
          "name": "stdout",
          "text": [
            "31.61430525779724\n"
          ]
        }
      ],
      "source": [
        "# Multi threading: GIL is an issue\n",
        "start_time = time.time()\n",
        "\n",
        "a = Parallel(n_jobs=2,prefer=\"threads\")(delayed(f)(i ** 2) for i in range(n))\n",
        "\n",
        "end_time = time.time()\n",
        "print (end_time-start_time)"
      ]
    },
    {
      "cell_type": "markdown",
      "source": [
        "This code is an example of using the `joblib` library to parallelize the execution of a function using multiple threads. Here's an explanation of the code line by line:\n",
        "\n",
        "```python\n",
        "start_time = time.time()\n",
        "```\n",
        "This line records the current time in seconds since epoch and assigns it to a variable named `start_time`. This is used to measure how long it takes for the parallelized computation to finish.\n",
        "\n",
        "```python\n",
        "a = Parallel(n_jobs=2,prefer=\"threads\")(delayed(f)(i ** 2) for i in range(n))\n",
        "```\n",
        "This line creates a `Parallel` object with `n_jobs=2` and `prefer=\"threads\"`, which means that two worker threads will be used to execute the function `f` in parallel. The `delayed` function is used to specify that the function `f` should be called with argument `i ** 2` for each value of `i` in the range from 0 to `n-1`. The results of the function calls are stored in a list and assigned to a variable named `a`.\n",
        "\n",
        "```python\n",
        "end_time = time.time()\n",
        "print (end_time-start_time)\n",
        "```\n",
        "These lines record the current time in seconds since epoch and assign it to a variable named `end_time`. Then, the difference between `end_time` and `start_time` is printed, which gives the time taken by the parallelized computation.\n",
        "\n",
        "It's important to note that, due to the Global Interpreter Lock (GIL) in CPython, multithreading may not always provide a significant speedup for CPU-bound tasks. In such cases, multiprocessing may be a better choice.\n",
        "\n",
        "I hope this explanation helps! Is there anything else you would like to know?"
      ],
      "metadata": {
        "id": "mDw86zSn7VfV"
      }
    },
    {
      "cell_type": "code",
      "execution_count": null,
      "metadata": {
        "id": "Ei66FWxnLmym",
        "outputId": "c10580cd-a4da-4607-e93f-1015b4745af8"
      },
      "outputs": [
        {
          "name": "stdout",
          "output_type": "stream",
          "text": [
            "4.557589054107666\n"
          ]
        }
      ],
      "source": [
        "\n",
        "# 6 jobs\n",
        "\n",
        "from joblib import Parallel, delayed\n",
        "\n",
        "start_time = time.time()\n",
        "\n",
        "a = Parallel(n_jobs=6)(delayed(f)(i ** 2) for i in range(n)) \n",
        "\n",
        "# Why we need dealyed(): https://stackoverflow.com/questions/42220458/what-does-the-delayed-function-do-when-used-with-joblib-in-python\n",
        "\n",
        "end_time = time.time()\n",
        "print (end_time-start_time)"
      ]
    },
    {
      "cell_type": "code",
      "execution_count": null,
      "metadata": {
        "id": "B2Iac7P4Lmyn"
      },
      "outputs": [],
      "source": []
    }
  ],
  "metadata": {
    "colab": {
      "provenance": [],
      "include_colab_link": true
    },
    "kernelspec": {
      "display_name": "Python 3",
      "language": "python",
      "name": "python3"
    },
    "language_info": {
      "codemirror_mode": {
        "name": "ipython",
        "version": 3
      },
      "file_extension": ".py",
      "mimetype": "text/x-python",
      "name": "python",
      "nbconvert_exporter": "python",
      "pygments_lexer": "ipython3",
      "version": "3.7.6"
    }
  },
  "nbformat": 4,
  "nbformat_minor": 0
}