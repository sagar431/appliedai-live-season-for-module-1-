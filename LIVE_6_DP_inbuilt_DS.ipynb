{
  "cells": [
    {
      "cell_type": "markdown",
      "metadata": {
        "id": "view-in-github",
        "colab_type": "text"
      },
      "source": [
        "<a href=\"https://colab.research.google.com/github/sagar431/appliedai-live-season-for-module-1-/blob/main/LIVE_6_DP_inbuilt_DS.ipynb\" target=\"_parent\"><img src=\"https://colab.research.google.com/assets/colab-badge.svg\" alt=\"Open In Colab\"/></a>"
      ]
    },
    {
      "cell_type": "markdown",
      "metadata": {
        "id": "Xtu8EDMvJxVU"
      },
      "source": [
        "## LIVE 6: Dynamic Programming + inbuilt-DS\n",
        " - Focus: Dynamic programming example , where to use which DS in Python\n",
        " - Prereq: Previous code-sessions + Basic knowledge of inbuilt DS in Python(list, tuple, dict, set)\n",
        " - Reference for basics: \n",
        "     - https://docs.python.org/3/tutorial/datastructures.html#\n",
        "     - https://www.geeksforgeeks.org/inbuilt-data-structures-python/\n",
        "    \n",
        " "
      ]
    },
    {
      "cell_type": "markdown",
      "metadata": {
        "id": "UqmXaLhIJxVa"
      },
      "source": [
        "## Problem 4:  Regex matching problem\n",
        "- \"?\" matches a single character\n",
        "- \"*\" matches zero or more charcters\n",
        "- Given a pattern(p) and a string(s), does p match s?\n",
        "- examples: \n",
        "    - TRUE: (\"\\*\", \"ab\"), (\"?a\" ,\"ba\"), (\"?a\" ,\"aa\"), (\"a\\*\" ,\"a\")\n",
        "    - FALSE: (\"\\*a\", \"ab\"), (\"?a\" ,\"baa\"), (\"?a\" ,\"a\"), (\"a\\*\" ,\"ba\")\n",
        "\n",
        "- Very popular interview question at product-based companies for SDEs.\n",
        "- Small variations of this are often used in interviews\n",
        "\n",
        "- Any suggestions?\n"
      ]
    },
    {
      "cell_type": "code",
      "execution_count": null,
      "metadata": {
        "id": "IEVpyxFsJxVc"
      },
      "outputs": [],
      "source": [
        "# Handle all cases of recursion thoroughly.\n",
        "\n",
        "def isMatch(p,s):\n",
        "    \n",
        "    print(p,s) # print statemnt for debugging\n",
        "    \n",
        "    # boundary cases of recursion\n",
        "    if p == s:\n",
        "        return True\n",
        "    \n",
        "    if p == \"*\":\n",
        "        return True\n",
        "    \n",
        "    if p == \"\" or s == \"\":\n",
        "        return False\n",
        "    \n",
        "    # recursion case-1\n",
        "    if p[0] == s[0] or p[0] == '?':\n",
        "        return isMatch(p[1:], s[1:])\n",
        "    \n",
        "    # recursion-case-2\n",
        "    if p[0] == '*':\n",
        "        return ( isMatch( p[1:], s) or isMatch( p, s[1:]))\n",
        "    \n",
        "    # last case: if p[0] is a character\n",
        "    if  p[0] != s[0]:\n",
        "        return False;\n",
        "        "
      ]
    },
    {
      "cell_type": "code",
      "execution_count": null,
      "metadata": {
        "id": "WVaOA75eJxVf",
        "outputId": "674cb154-7b79-4683-8cec-8e25062caeb7"
      },
      "outputs": [
        {
          "name": "stdout",
          "output_type": "stream",
          "text": [
            "* ab\n",
            "True\n"
          ]
        }
      ],
      "source": [
        "print(isMatch(\"*\",\"ab\"))\n"
      ]
    },
    {
      "cell_type": "code",
      "execution_count": null,
      "metadata": {
        "id": "FboU4AuWJxVg",
        "outputId": "8578d871-86e2-4253-fd8b-0106ce7d8b36"
      },
      "outputs": [
        {
          "name": "stdout",
          "output_type": "stream",
          "text": [
            "?a baa\n",
            "a aa\n",
            " a\n",
            "False\n"
          ]
        }
      ],
      "source": [
        "print(isMatch(\"?a\" ,\"baa\"))"
      ]
    },
    {
      "cell_type": "code",
      "execution_count": null,
      "metadata": {
        "id": "1BO-EAmvJxVh",
        "outputId": "613cd614-48ce-4683-8f8e-7ec79d379519"
      },
      "outputs": [
        {
          "name": "stdout",
          "output_type": "stream",
          "text": [
            "a* ba\n",
            "False\n"
          ]
        }
      ],
      "source": [
        "print(isMatch(\"a*\" ,\"ba\"))"
      ]
    },
    {
      "cell_type": "code",
      "execution_count": null,
      "metadata": {
        "id": "xe4cvmmCJxVh",
        "outputId": "66cfe750-4d9d-49ab-bea8-777c71600e26"
      },
      "outputs": [
        {
          "data": {
            "text/html": [
              "<img src=\"https://i.imgur.com/dse47H3.png\"/>"
            ],
            "text/plain": [
              "<IPython.core.display.Image object>"
            ]
          },
          "execution_count": 242,
          "metadata": {},
          "output_type": "execute_result"
        }
      ],
      "source": [
        "# Worst case Time Complexity: T(n) = T(n-1) + T(n-1) = 2* T(n-1)\n",
        "\n",
        "# => T(n) = 0(2^n) [as shown below]\n",
        "\n",
        "\n",
        "from IPython.display import Image\n",
        "Image(url= \"https://i.imgur.com/dse47H3.png\")\n"
      ]
    },
    {
      "cell_type": "code",
      "execution_count": null,
      "metadata": {
        "id": "MDvSKLUkJxVi",
        "outputId": "37be8d1b-a2b5-4d05-df3c-f9047dc2e88a"
      },
      "outputs": [
        {
          "data": {
            "text/html": [
              "<img src=\"https://i.imgur.com/Rx6tN8a.png\"/>"
            ],
            "text/plain": [
              "<IPython.core.display.Image object>"
            ]
          },
          "execution_count": 243,
          "metadata": {},
          "output_type": "execute_result"
        }
      ],
      "source": [
        "# Can we do better?\n",
        "\n",
        "Image(url= \"https://i.imgur.com/Rx6tN8a.png\")"
      ]
    },
    {
      "cell_type": "code",
      "execution_count": null,
      "metadata": {
        "id": "XQxw9q68JxVi"
      },
      "outputs": [],
      "source": [
        "# Overlapping sub-problems: \n",
        "# Why not store solutions to already solved problems in a dict (dp)\n",
        "# Dynamic programming: Recursion + overlapping subproblems\n",
        "\n",
        "\n",
        "# We discussed this in our course when we learn back-propogation in Deep-Learning.\n"
      ]
    },
    {
      "cell_type": "code",
      "execution_count": null,
      "metadata": {
        "id": "v5yLaHM0JxVj"
      },
      "outputs": [],
      "source": [
        "# top-down DP using recursion and memoization (dp)\n",
        "\n",
        "\n",
        "\n",
        "def isMatchDP(pattern, string, pattern_start, string_start, dp ):\n",
        "    \n",
        "    #print(pattern_start, string_start);\n",
        "    \n",
        "    if  (pattern_start, string_start) in dp:\n",
        "        return dp[(pattern_start, string_start)]\n",
        "    \n",
        "    p = pattern[pattern_start:];\n",
        "    s = string[string_start:];\n",
        "    \n",
        "    \n",
        "    print(p,s) # print statemnt for debugging\n",
        "    \n",
        "    # boundary cases of recursion\n",
        "    if p == s:\n",
        "        dp[(pattern_start, string_start)] = True;\n",
        "        return True\n",
        "    \n",
        "    if p == \"*\":\n",
        "        dp[(pattern_start, string_start)] = True;\n",
        "        return True\n",
        "    \n",
        "    if p == \"\" or s == \"\":\n",
        "        dp[(pattern_start, string_start)] = False;\n",
        "        return False\n",
        "    \n",
        "    # recursion case-1\n",
        "    if p[0] == s[0] or p[0] == '?':\n",
        "        tmp = isMatchDP(pattern, string, pattern_start+1, string_start+1, dp)\n",
        "        d[(pattern_start, string_start)] = tmp;\n",
        "        return tmp;\n",
        "    \n",
        "    # recursion-case-2\n",
        "    if p[0] == '*':\n",
        "        tmp = ( isMatchDP( pattern, string, pattern_start+1, string_start, dp) or isMatchDP( pattern, string, pattern_start, string_start+1, dp))\n",
        "        dp[(pattern_start, string_start)] = tmp;\n",
        "        return tmp;\n",
        "    \n",
        "    # last case: if p[0] is a character\n",
        "    if  p[0] != s[0]:\n",
        "        dp[(pattern_start, string_start)] = False;\n",
        "        return False;\n",
        "    "
      ]
    },
    {
      "cell_type": "code",
      "execution_count": null,
      "metadata": {
        "id": "9kJ9ZU45JxVk",
        "outputId": "65197f42-5538-4424-b3fe-c1934304e313"
      },
      "outputs": [
        {
          "name": "stdout",
          "output_type": "stream",
          "text": [
            "* ab\n",
            "True\n"
          ]
        }
      ],
      "source": [
        "print(isMatchDP(\"*\",\"ab\",0,0, {}))"
      ]
    },
    {
      "cell_type": "code",
      "execution_count": null,
      "metadata": {
        "id": "um4N5m1uJxVk",
        "outputId": "ea2b211a-ddf5-48ce-a377-2365397a6f46"
      },
      "outputs": [
        {
          "name": "stdout",
          "output_type": "stream",
          "text": [
            "?a baa\n",
            "a aa\n",
            " a\n",
            "False\n"
          ]
        }
      ],
      "source": [
        "print(isMatchDP(\"?a\" ,\"baa\",0,0,{}))"
      ]
    },
    {
      "cell_type": "code",
      "execution_count": null,
      "metadata": {
        "id": "F-X_GU33JxVl",
        "outputId": "d587fc69-636b-46a0-932d-3b401b19d921"
      },
      "outputs": [
        {
          "name": "stdout",
          "output_type": "stream",
          "text": [
            "?a* baa\n",
            "a* aa\n",
            "* a\n",
            "True\n"
          ]
        }
      ],
      "source": [
        "print(isMatchDP(\"?a*\" ,\"baa\",0,0,{}))"
      ]
    },
    {
      "cell_type": "markdown",
      "metadata": {
        "id": "6UNTvNR6JxVn"
      },
      "source": [
        "### 2 Dimensional Dynamic programming vs 1-Dimensional DP\n",
        "\n",
        "### Additional Resources:\n",
        "- https://www.geeksforgeeks.org/solve-dynamic-programming-problem/\n",
        "- 50 practice problems: https://blog.usejournal.com/top-50-dynamic-programming-practice-problems-4208fed71aa3\n"
      ]
    },
    {
      "cell_type": "markdown",
      "metadata": {
        "id": "-KE4qwiwJxVn"
      },
      "source": [
        "# Python's inbuilt data-structures: List, Dict, Set, Tuple \n",
        "- Assumption: basic understadning about these DS. \n",
        "- Big practical question: Where to use which DS?"
      ]
    },
    {
      "cell_type": "markdown",
      "metadata": {
        "id": "Z4wY-pmxJxVn"
      },
      "source": [
        "### Key properties (recap): \n",
        "- LIST: [1,2,3,4,5], ordered, indexable, iterable\n",
        "\n",
        "- DICT:  {'jack': 4098, 'sape': 4139}, O(1) search, <k,v> pairs, iterable, ordered(3.7+)[https://docs.python.org/3/whatsnew/3.7.html]\n",
        "\n",
        "- TUPLE: (1,2,3), immutable, ordered-k-items, \n",
        "\n",
        "- SET: {1,2,3}, unordered, iterable, no-duplicates.\n",
        "\n",
        "\n",
        "\" A DS is decided based on what operations you want to perform on it and how fast these operations are\"\n"
      ]
    },
    {
      "cell_type": "markdown",
      "metadata": {
        "id": "cZ2rM5ZYJxVo"
      },
      "source": [
        "### Lets learn: Which DS will you use in a given situation and why?\n"
      ]
    },
    {
      "cell_type": "markdown",
      "metadata": {
        "id": "tl-u2pT4JxVo"
      },
      "source": [
        "### Q. Represent a 3-D point as a parameter to a function: f(3D-point)"
      ]
    },
    {
      "cell_type": "markdown",
      "metadata": {
        "id": "Xn2qMfYfJxVo"
      },
      "source": [
        "#### Notice the shape parameter in NumPy\n",
        "\n",
        "class numpy.ndarray(shape, dtype=float, buffer=None, offset=0, strides=None, order=None)[source]\n",
        "An array object represents a multidimensional, homogeneous array of fixed-size items. An associated data-type object describes the format of each element in the array (its byte-order, how many bytes it occupies in memory, whether it is an integer, a floating point number, or something else, etc.)\n",
        "\n",
        "Arrays should be constructed using array, zeros or empty (refer to the See Also section below). The parameters given here refer to a low-level method (ndarray(…)) for instantiating an array.\n",
        "\n",
        "For more information, refer to the numpy module and examine the methods and attributes of an array.\n",
        "\n",
        "Parameters:\t\n",
        "(for the __new__ method; see Notes below)\n",
        "shape : tuple of ints\n",
        "Shape of created array.\n",
        "\n",
        "dtype : data-type, optional\n",
        "Any object that can be interpreted as a numpy data type.\n",
        "\n",
        "buffer : object exposing buffer interface, optional\n",
        "Used to fill the array with data.\n",
        "\n",
        "offset : int, optional\n",
        "Offset of array data in buffer."
      ]
    },
    {
      "cell_type": "markdown",
      "metadata": {
        "id": "Sa805aj6JxVp"
      },
      "source": [
        "### Q. Represent a 3-D point as a parameter to a function: f(3D-point) which changes the 3-D point's co-ordinates"
      ]
    },
    {
      "cell_type": "code",
      "execution_count": null,
      "metadata": {
        "id": "6VGXxmwqJxVp",
        "outputId": "1d3487ed-9e0d-446e-ded9-0a1c3c9cb5d1"
      },
      "outputs": [
        {
          "name": "stdout",
          "output_type": "stream",
          "text": [
            "(0, 1, 2)\n",
            "0\n"
          ]
        },
        {
          "ename": "TypeError",
          "evalue": "'tuple' object does not support item assignment",
          "output_type": "error",
          "traceback": [
            "\u001b[0;31m---------------------------------------------------------------------------\u001b[0m",
            "\u001b[0;31mTypeError\u001b[0m                                 Traceback (most recent call last)",
            "\u001b[0;32m<ipython-input-179-be22e0c9180e>\u001b[0m in \u001b[0;36m<module>\u001b[0;34m\u001b[0m\n\u001b[1;32m     10\u001b[0m \u001b[0mprint\u001b[0m\u001b[0;34m(\u001b[0m\u001b[0mt\u001b[0m\u001b[0;34m[\u001b[0m\u001b[0;36m0\u001b[0m\u001b[0;34m]\u001b[0m\u001b[0;34m)\u001b[0m\u001b[0;34m\u001b[0m\u001b[0;34m\u001b[0m\u001b[0m\n\u001b[1;32m     11\u001b[0m \u001b[0;34m\u001b[0m\u001b[0m\n\u001b[0;32m---> 12\u001b[0;31m \u001b[0mf\u001b[0m\u001b[0;34m(\u001b[0m\u001b[0mt\u001b[0m\u001b[0;34m)\u001b[0m\u001b[0;34m;\u001b[0m\u001b[0;34m\u001b[0m\u001b[0;34m\u001b[0m\u001b[0m\n\u001b[0m\u001b[1;32m     13\u001b[0m \u001b[0;34m\u001b[0m\u001b[0m\n\u001b[1;32m     14\u001b[0m \u001b[0mprint\u001b[0m\u001b[0;34m(\u001b[0m\u001b[0mt\u001b[0m\u001b[0;34m)\u001b[0m\u001b[0;34m\u001b[0m\u001b[0;34m\u001b[0m\u001b[0m\n",
            "\u001b[0;32m<ipython-input-179-be22e0c9180e>\u001b[0m in \u001b[0;36mf\u001b[0;34m(t)\u001b[0m\n\u001b[1;32m      1\u001b[0m \u001b[0;32mdef\u001b[0m \u001b[0mf\u001b[0m\u001b[0;34m(\u001b[0m\u001b[0mt\u001b[0m\u001b[0;34m)\u001b[0m\u001b[0;34m:\u001b[0m\u001b[0;34m\u001b[0m\u001b[0;34m\u001b[0m\u001b[0m\n\u001b[0;32m----> 2\u001b[0;31m     \u001b[0mt\u001b[0m\u001b[0;34m[\u001b[0m\u001b[0;36m0\u001b[0m\u001b[0;34m]\u001b[0m \u001b[0;34m=\u001b[0m \u001b[0mt\u001b[0m\u001b[0;34m[\u001b[0m\u001b[0;36m0\u001b[0m\u001b[0;34m]\u001b[0m\u001b[0;34m+\u001b[0m\u001b[0;36m1\u001b[0m\u001b[0;34m;\u001b[0m\u001b[0;34m\u001b[0m\u001b[0;34m\u001b[0m\u001b[0m\n\u001b[0m\u001b[1;32m      3\u001b[0m     \u001b[0mt\u001b[0m\u001b[0;34m[\u001b[0m\u001b[0;36m1\u001b[0m\u001b[0;34m]\u001b[0m \u001b[0;34m=\u001b[0m \u001b[0mt\u001b[0m\u001b[0;34m[\u001b[0m\u001b[0;36m1\u001b[0m\u001b[0;34m]\u001b[0m\u001b[0;34m+\u001b[0m\u001b[0;36m1\u001b[0m\u001b[0;34m;\u001b[0m\u001b[0;34m\u001b[0m\u001b[0;34m\u001b[0m\u001b[0m\n\u001b[1;32m      4\u001b[0m     \u001b[0mt\u001b[0m\u001b[0;34m[\u001b[0m\u001b[0;36m2\u001b[0m\u001b[0;34m]\u001b[0m \u001b[0;34m=\u001b[0m \u001b[0mt\u001b[0m\u001b[0;34m[\u001b[0m\u001b[0;36m2\u001b[0m\u001b[0;34m]\u001b[0m\u001b[0;34m+\u001b[0m\u001b[0;36m1\u001b[0m\u001b[0;34m;\u001b[0m\u001b[0;34m\u001b[0m\u001b[0;34m\u001b[0m\u001b[0m\n\u001b[1;32m      5\u001b[0m     \u001b[0;32mreturn\u001b[0m\u001b[0;34m;\u001b[0m\u001b[0;34m\u001b[0m\u001b[0;34m\u001b[0m\u001b[0m\n",
            "\u001b[0;31mTypeError\u001b[0m: 'tuple' object does not support item assignment"
          ]
        }
      ],
      "source": [
        "def f(t):\n",
        "    t[0] = t[0]+1;\n",
        "    t[1] = t[1]+1;\n",
        "    t[2] = t[2]+1;\n",
        "    return;\n",
        "\n",
        "t=(0,1,2);\n",
        "print(t);\n",
        "\n",
        "print(t[0])\n",
        "\n",
        "f(t);\n",
        "\n",
        "print(t)\n",
        "\n",
        "# tuples are immutable"
      ]
    },
    {
      "cell_type": "code",
      "execution_count": null,
      "metadata": {
        "id": "TZdyYnBFJxVp",
        "outputId": "6cc97252-8397-464b-c39b-d70ba2944d21"
      },
      "outputs": [
        {
          "name": "stdout",
          "output_type": "stream",
          "text": [
            "[0, 1, 2]\n",
            "0\n",
            "[1, 2, 3]\n"
          ]
        }
      ],
      "source": [
        "# lists are mutable and ordered.\n",
        "\n",
        "def f(t):\n",
        "    t[0] = t[0]+1;\n",
        "    t[1] = t[1]+1;\n",
        "    t[2] = t[2]+1;\n",
        "    return;\n",
        "\n",
        "t=[0,1,2];\n",
        "print(t);\n",
        "\n",
        "print(t[0])\n",
        "\n",
        "f(t);\n",
        "\n",
        "print(t)"
      ]
    },
    {
      "cell_type": "markdown",
      "metadata": {
        "id": "7OHsISp6JxVq"
      },
      "source": [
        "\n",
        "#### Example: Mutable and immutable & Parameter passing\n",
        "https://stackoverflow.com/a/986145"
      ]
    },
    {
      "cell_type": "markdown",
      "metadata": {
        "id": "vgM0iOsYJxVr"
      },
      "source": [
        "### Q. If you were to design NumPy from scratch, which inbuilt DS would you use to design ndarray?\n"
      ]
    },
    {
      "cell_type": "markdown",
      "metadata": {
        "id": "Bc4MuJdrJxVs"
      },
      "source": [
        "### Q. How do you think data is internally stored in Numpy Arrays?"
      ]
    },
    {
      "cell_type": "markdown",
      "source": [
        "Numpy arrays consist of two major components: the raw array data (referred to as the data buffer), and the information about the raw array data. The data buffer is a contiguous block of memory containing fixed-sized data items. Numpy also contains a significant set of data that describes how to interpret the data in the data buffer. This extra information contains (among other things): The basic data element’s size in bytes, The start of the data within the data buffer (an offset relative to the beginning of the data buffer), The number of dimensions and the size of each dimension, The separation between elements for each dimension (the stride), The byte order of the data (which may not be the native byte order), Whether the buffer is read-only, Information (via the dtype object) about the interpretation of the basic data element, Whether the array is to be interpreted as C-order or Fortran-order 1.\n",
        "\n",
        "This arrangement allows for very flexible use of arrays. One thing that it allows is simple changes to the metadata to change the interpretation of the array buffer. Changing the byte order of the array is a simple change involving no rearrangement of the data. The shape of the array can be changed very easily without changing anything in the data buffer or any data copying at all. Among other things that are made possible is one can create a new array metadata object that uses the same data buffer to create a new view of that data buffer that has a different interpretation of the buffer (e.g., different shape, offset, byte order, strides, etc) but shares the same data bytes 1.\n",
        "\n",
        "I hope this helps! Let me know if you have any further questions."
      ],
      "metadata": {
        "id": "ubXxJxQ4OwF4"
      }
    },
    {
      "cell_type": "markdown",
      "metadata": {
        "id": "lkwmaBkPJxVs"
      },
      "source": [
        "\"Why are NumPy arrays efficient?\n",
        "\n",
        "A NumPy array is basically described by metadata (notably the number of dimensions, the shape, and the data type) and the actual data. The data is stored in a homogeneous and contiguous block of memory, at a particular address in system memory (Random Access Memory, or RAM). This block of memory is called the data buffer. This is the main difference between an array and a pure Python structure, such as a list, where the items are scattered across the system memory. This aspect is the critical feature that makes NumPy arrays so efficient.\"\n",
        "\n",
        "Source: https://ipython-books.github.io/45-understanding-the-internals-of-numpy-to-avoid-unnecessary-array-copying/"
      ]
    },
    {
      "cell_type": "markdown",
      "metadata": {
        "id": "2ysuqC_mJxVs"
      },
      "source": [
        "### Q. You want to write the program to obtain various combinations. How do you take the input?"
      ]
    },
    {
      "cell_type": "markdown",
      "metadata": {
        "id": "LLQRBbArJxVt"
      },
      "source": [
        "Refer: https://docs.python.org/2/library/itertools.html#itertools.combinations\n",
        "        \n",
        "itertools.combinations(iterable, r)\n",
        "\n",
        "Return r length subsequences of elements from the input iterable.\n",
        "Combinations are emitted in lexicographic sort order. So, if the input iterable is sorted, the combination tuples will be produced in sorted order.\n",
        "Elements are treated as unique based on their position, not on their value. So if the input elements are unique, there will be no repeat values in each combination."
      ]
    },
    {
      "cell_type": "code",
      "execution_count": null,
      "metadata": {
        "id": "OcUUsKJeJxVt",
        "outputId": "f70bc465-4c0c-4dc8-b59d-f47e733bfde3"
      },
      "outputs": [
        {
          "name": "stdout",
          "output_type": "stream",
          "text": [
            "<class 'itertools.combinations'>\n"
          ]
        }
      ],
      "source": [
        "import itertools\n",
        "\n",
        "res = itertools.combinations([1,2,3,4,5],2)\n",
        "\n",
        "print(type(res))\n"
      ]
    },
    {
      "cell_type": "markdown",
      "metadata": {
        "id": "nsCGaeASJxVt"
      },
      "source": [
        "#### Q. How would you build a TinyURL service? [https://tinyurl.com/]\n",
        "- Popular interview question"
      ]
    },
    {
      "cell_type": "markdown",
      "metadata": {
        "id": "ly4hfYI5JxVu"
      },
      "source": [
        "Dict/Hashtable has <K,V> pairs\n",
        "\n",
        "Key = short-URL\n",
        "Value = Long-URL\n",
        "\n",
        "Key: random variable length alphabetic suffix [tinyurl.com/tgwxyc]\n"
      ]
    },
    {
      "cell_type": "code",
      "execution_count": null,
      "metadata": {
        "id": "1fPjEY_cJxVu"
      },
      "outputs": [],
      "source": [
        "import random\n",
        "import string\n",
        "\n",
        "d = {};\n",
        "\n",
        "# given a long URL, get a short URL\n",
        "def getShortURL(longURL):\n",
        "    # length = random value in 6-10\n",
        "    l = random.randint(6,10);\n",
        "    print(l);\n",
        "    \n",
        "    # generate random characters into a string of length l\n",
        "    chars = string.ascii_lowercase\n",
        "    shortURL = ''.join(random.choice(chars) for i in range(l))\n",
        "    print(shortURL);\n",
        "    \n",
        "    # check if this string is already present in dict d\n",
        "    if shortURL in d:\n",
        "        return getShortURL(longURL);\n",
        "    else:\n",
        "        d[shortURL] = longURL;\n",
        "        \n",
        "    print(d)\n",
        "    r = \"https://www.shortURL.com/\"+shortURL\n",
        "    return r;\n",
        "\n"
      ]
    },
    {
      "cell_type": "code",
      "execution_count": null,
      "metadata": {
        "id": "nDkJfw0WJxVu",
        "outputId": "19abdad9-23b3-45f2-9437-d532d64035c2"
      },
      "outputs": [
        {
          "name": "stdout",
          "output_type": "stream",
          "text": [
            "8\n",
            "iftgtrsu\n",
            "{'iftgtrsu': 'www.appliedaicourse.com'}\n",
            "https://www.shortURL.com/iftgtrsu\n"
          ]
        }
      ],
      "source": [
        "print(getShortURL(\"www.appliedaicourse.com\"))"
      ]
    },
    {
      "cell_type": "code",
      "execution_count": null,
      "metadata": {
        "id": "bprdb1XwJxVu",
        "outputId": "832334ca-852b-4525-81f6-76233bda7a48"
      },
      "outputs": [
        {
          "name": "stdout",
          "output_type": "stream",
          "text": [
            "7\n",
            "mxzmuis\n",
            "{'iftgtrsu': 'www.appliedaicourse.com', 'mxzmuis': 'www.appliedaicourse.com'}\n",
            "https://www.shortURL.com/mxzmuis\n"
          ]
        }
      ],
      "source": [
        "print(getShortURL(\"www.appliedaicourse.com\"))"
      ]
    },
    {
      "cell_type": "code",
      "execution_count": null,
      "metadata": {
        "id": "fMjCpWRNJxVv"
      },
      "outputs": [],
      "source": [
        "def getLongURL(shortURL):\n",
        "    \n",
        "    # extarct key from URL https://www.shortURL.com/mxzmuis ---> mxzmuis\n",
        "    k = shortURL[25:];\n",
        "    print(k)\n",
        "    \n",
        "    return d[k];\n"
      ]
    },
    {
      "cell_type": "code",
      "execution_count": null,
      "metadata": {
        "id": "usyp6_B2JxVv",
        "outputId": "eed328dd-1682-4ec5-c01f-405f41f34e78"
      },
      "outputs": [
        {
          "name": "stdout",
          "output_type": "stream",
          "text": [
            "mxzmuis\n",
            "www.appliedaicourse.com\n"
          ]
        }
      ],
      "source": [
        "print(getLongURL(\"https://www.shortURL.com/mxzmuis\"))\n"
      ]
    },
    {
      "cell_type": "code",
      "execution_count": null,
      "metadata": {
        "id": "yFpAgA17JxVv",
        "outputId": "ebf389b5-1df9-4620-fad8-f4a40586e601"
      },
      "outputs": [
        {
          "name": "stdout",
          "output_type": "stream",
          "text": [
            "abcdef\n"
          ]
        },
        {
          "ename": "KeyError",
          "evalue": "'abcdef'",
          "output_type": "error",
          "traceback": [
            "\u001b[0;31m---------------------------------------------------------------------------\u001b[0m",
            "\u001b[0;31mKeyError\u001b[0m                                  Traceback (most recent call last)",
            "\u001b[0;32m<ipython-input-193-a1641eeac07b>\u001b[0m in \u001b[0;36m<module>\u001b[0;34m\u001b[0m\n\u001b[0;32m----> 1\u001b[0;31m \u001b[0mprint\u001b[0m\u001b[0;34m(\u001b[0m\u001b[0mgetLongURL\u001b[0m\u001b[0;34m(\u001b[0m\u001b[0;34m\"https://www.shortURL.com/abcdef\"\u001b[0m\u001b[0;34m)\u001b[0m\u001b[0;34m)\u001b[0m\u001b[0;34m\u001b[0m\u001b[0;34m\u001b[0m\u001b[0m\n\u001b[0m",
            "\u001b[0;32m<ipython-input-191-049da4c13feb>\u001b[0m in \u001b[0;36mgetLongURL\u001b[0;34m(shortURL)\u001b[0m\n\u001b[1;32m      5\u001b[0m     \u001b[0mprint\u001b[0m\u001b[0;34m(\u001b[0m\u001b[0mk\u001b[0m\u001b[0;34m)\u001b[0m\u001b[0;34m\u001b[0m\u001b[0;34m\u001b[0m\u001b[0m\n\u001b[1;32m      6\u001b[0m \u001b[0;34m\u001b[0m\u001b[0m\n\u001b[0;32m----> 7\u001b[0;31m     \u001b[0;32mreturn\u001b[0m \u001b[0md\u001b[0m\u001b[0;34m[\u001b[0m\u001b[0mk\u001b[0m\u001b[0;34m]\u001b[0m\u001b[0;34m;\u001b[0m\u001b[0;34m\u001b[0m\u001b[0;34m\u001b[0m\u001b[0m\n\u001b[0m",
            "\u001b[0;31mKeyError\u001b[0m: 'abcdef'"
          ]
        }
      ],
      "source": [
        "print(getLongURL(\"https://www.shortURL.com/abcdef\"))"
      ]
    },
    {
      "cell_type": "code",
      "execution_count": null,
      "metadata": {
        "id": "HLPycEoEJxVw"
      },
      "outputs": [],
      "source": [
        "# Handle Errors and return None\n",
        "\n",
        "def getLongURL(shortURL):\n",
        "    \n",
        "    # extarct key from URL https://www.shortURL.com/mxzmuis ---> mxzmuis\n",
        "    k = shortURL[25:];\n",
        "    print(k)\n",
        "    \n",
        "    if k in d:\n",
        "        return d[k];\n",
        "    else:\n",
        "        return None;"
      ]
    },
    {
      "cell_type": "code",
      "execution_count": null,
      "metadata": {
        "id": "DzUa_dMDJxVw",
        "outputId": "19c4c6de-3f9c-4179-ab00-8d4e007da2bc"
      },
      "outputs": [
        {
          "name": "stdout",
          "output_type": "stream",
          "text": [
            "abcdef\n",
            "None\n"
          ]
        }
      ],
      "source": [
        "print(getLongURL(\"https://www.shortURL.com/abcdef\"))"
      ]
    },
    {
      "cell_type": "code",
      "execution_count": null,
      "metadata": {
        "id": "3Rs5Hd8UJxVw",
        "outputId": "1acf5d44-4a00-4fbf-ac15-fb8248dcae83"
      },
      "outputs": [
        {
          "name": "stdout",
          "output_type": "stream",
          "text": [
            "mxzmuis\n",
            "www.appliedaicourse.com\n"
          ]
        }
      ],
      "source": [
        "print(getLongURL(\"https://www.shortURL.com/mxzmuis\"))\n"
      ]
    },
    {
      "cell_type": "markdown",
      "metadata": {
        "id": "noidKjZnJxVw"
      },
      "source": [
        "#### IDEA: We have dict 'd' and these two functions(getShortURL, getLongURL ) that opearete on 'd'. Why not put all these three in a single logical block?\n",
        "- That's where \"Classes\" come in!  Next session: Basics of OOP in Python (for ML)\n",
        "- We will build a ShortURL class."
      ]
    },
    {
      "cell_type": "markdown",
      "metadata": {
        "id": "zmU7bJMuJxVx"
      },
      "source": [
        "### Q. Find common elements in 3 lists\n",
        "l1 = [1,2,3,4] <br>\n",
        "l2 = [3,4,5] <br>\n",
        "l3 = [1,4,6,7,8]\n",
        "\n",
        "result = [4]\n"
      ]
    },
    {
      "cell_type": "code",
      "execution_count": null,
      "metadata": {
        "id": "bwch2PlwJxVx",
        "outputId": "373928f0-3960-4060-b96d-b867803f573e"
      },
      "outputs": [
        {
          "name": "stdout",
          "output_type": "stream",
          "text": [
            "[4]\n"
          ]
        }
      ],
      "source": [
        "\n",
        "l1 = [1,2,3,4]\n",
        "l2 = [3,4,5]\n",
        "l3 = [1,4,6,7,8]\n",
        "\n",
        "s1 = set(l1);\n",
        "s2 = set(l2);\n",
        "s3 =set(l3);\n",
        "\n",
        "result = list((s1.intersection(s2)).intersection(s3))\n",
        "\n",
        "print(result)\n",
        "\n",
        "# Simple application of Sets"
      ]
    },
    {
      "cell_type": "markdown",
      "metadata": {
        "id": "RR35B-KdJxVx"
      },
      "source": [
        "### Exercise: Find all documents which contain search keywords and phrases."
      ]
    },
    {
      "cell_type": "code",
      "execution_count": null,
      "metadata": {
        "id": "SO8NF5pSJxVx"
      },
      "outputs": [],
      "source": []
    }
  ],
  "metadata": {
    "celltoolbar": "Slideshow",
    "kernelspec": {
      "display_name": "Python 3",
      "language": "python",
      "name": "python3"
    },
    "language_info": {
      "codemirror_mode": {
        "name": "ipython",
        "version": 3
      },
      "file_extension": ".py",
      "mimetype": "text/x-python",
      "name": "python",
      "nbconvert_exporter": "python",
      "pygments_lexer": "ipython3",
      "version": "3.7.3"
    },
    "colab": {
      "provenance": [],
      "include_colab_link": true
    }
  },
  "nbformat": 4,
  "nbformat_minor": 0
}